{
 "cells": [
  {
   "cell_type": "code",
   "execution_count": 6,
   "id": "ef00ecb5",
   "metadata": {},
   "outputs": [],
   "source": [
    "from concurrent.futures import ThreadPoolExecutor, as_completed\n",
    "import logging\n",
    "import time\n",
    "import numpy as np\n",
    "import threading\n",
    "\n",
    "logging.basicConfig(format=\"%(threadName)s:%(message)s\", level=logging.DEBUG)\n",
    "\n",
    "def work(number):\n",
    "    time.sleep(5)\n",
    "    return number, threading.get_ident()\n",
    "    \n",
    "results = dict()\n",
    "results2 = dict()"
   ]
  },
  {
   "cell_type": "code",
   "execution_count": 7,
   "id": "67cab810",
   "metadata": {},
   "outputs": [
    {
     "name": "stdout",
     "output_type": "stream",
     "text": [
      "CPU times: user 7.28 ms, sys: 4.69 ms, total: 12 ms\n",
      "Wall time: 5.01 s\n"
     ]
    }
   ],
   "source": [
    "%%time\n",
    "with ThreadPoolExecutor() as executor:\n",
    "    futures = executor.map(work, range(8))\n",
    "for future in futures:\n",
    "    n, idx = future\n",
    "    results[n] = idx"
   ]
  },
  {
   "cell_type": "code",
   "execution_count": 8,
   "id": "829dadfa",
   "metadata": {},
   "outputs": [
    {
     "data": {
      "text/plain": [
       "{0: 139747162846784,\n",
       " 1: 139747657737792,\n",
       " 2: 139747682915904,\n",
       " 3: 139747666130496,\n",
       " 4: 139747699701312,\n",
       " 5: 139747691308608,\n",
       " 6: 139747674523200,\n",
       " 7: 139747649345088}"
      ]
     },
     "execution_count": 8,
     "metadata": {},
     "output_type": "execute_result"
    }
   ],
   "source": [
    "results"
   ]
  },
  {
   "cell_type": "code",
   "execution_count": 9,
   "id": "e57ae96b",
   "metadata": {},
   "outputs": [
    {
     "name": "stdout",
     "output_type": "stream",
     "text": [
      "CPU times: user 2.76 ms, sys: 2.83 ms, total: 5.59 ms\n",
      "Wall time: 40 s\n"
     ]
    }
   ],
   "source": [
    "%%time\n",
    "for i in range(8):\n",
    "    n, idx = work(i)\n",
    "    results2[n] = idx"
   ]
  },
  {
   "cell_type": "code",
   "execution_count": 10,
   "id": "520a2d0a",
   "metadata": {},
   "outputs": [
    {
     "data": {
      "text/plain": [
       "{0: 139748807173952,\n",
       " 1: 139748807173952,\n",
       " 2: 139748807173952,\n",
       " 3: 139748807173952,\n",
       " 4: 139748807173952,\n",
       " 5: 139748807173952,\n",
       " 6: 139748807173952,\n",
       " 7: 139748807173952}"
      ]
     },
     "execution_count": 10,
     "metadata": {},
     "output_type": "execute_result"
    }
   ],
   "source": [
    "results2"
   ]
  },
  {
   "cell_type": "code",
   "execution_count": null,
   "id": "48207099",
   "metadata": {},
   "outputs": [],
   "source": []
  },
  {
   "cell_type": "code",
   "execution_count": null,
   "id": "bdbc7dc0",
   "metadata": {},
   "outputs": [],
   "source": []
  }
 ],
 "metadata": {
  "kernelspec": {
   "display_name": "Python 3 (ipykernel)",
   "language": "python",
   "name": "python3"
  },
  "language_info": {
   "codemirror_mode": {
    "name": "ipython",
    "version": 3
   },
   "file_extension": ".py",
   "mimetype": "text/x-python",
   "name": "python",
   "nbconvert_exporter": "python",
   "pygments_lexer": "ipython3",
   "version": "3.10.10"
  }
 },
 "nbformat": 4,
 "nbformat_minor": 5
}
